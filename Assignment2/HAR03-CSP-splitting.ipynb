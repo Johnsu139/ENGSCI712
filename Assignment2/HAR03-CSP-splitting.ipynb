{
 "cells": [
  {
   "cell_type": "markdown",
   "metadata": {},
   "source": [
    "# HAR03 - Human Activity Recognition (Module II of ENGSCI712)\n",
    "\n",
    "## Splitting of time-series"
   ]
  },
  {
   "cell_type": "code",
   "execution_count": 1,
   "metadata": {},
   "outputs": [],
   "source": [
    "import pandas as pd"
   ]
  },
  {
   "cell_type": "code",
   "execution_count": 2,
   "metadata": {},
   "outputs": [
    {
     "data": {
      "text/plain": [
       "DatetimeIndex([       '2020-09-23 15:00:00', '2020-09-23 15:00:00.010000',\n",
       "               '2020-09-23 15:00:00.020000', '2020-09-23 15:00:00.030000',\n",
       "               '2020-09-23 15:00:00.040000', '2020-09-23 15:00:00.050000',\n",
       "               '2020-09-23 15:00:00.060000', '2020-09-23 15:00:00.070000',\n",
       "               '2020-09-23 15:00:00.080000', '2020-09-23 15:00:00.090000'],\n",
       "              dtype='datetime64[ns]', freq=None)"
      ]
     },
     "execution_count": 2,
     "metadata": {},
     "output_type": "execute_result"
    }
   ],
   "source": [
    "t = pd.date_range(start='2020-09-23 15:00',\n",
    "             end='2020-09-23 15:02', \n",
    "              periods=120*100+1)\n",
    "t[:10]"
   ]
  },
  {
   "cell_type": "code",
   "execution_count": 3,
   "metadata": {},
   "outputs": [
    {
     "data": {
      "text/html": [
       "<div>\n",
       "<style scoped>\n",
       "    .dataframe tbody tr th:only-of-type {\n",
       "        vertical-align: middle;\n",
       "    }\n",
       "\n",
       "    .dataframe tbody tr th {\n",
       "        vertical-align: top;\n",
       "    }\n",
       "\n",
       "    .dataframe thead th {\n",
       "        text-align: right;\n",
       "    }\n",
       "</style>\n",
       "<table border=\"1\" class=\"dataframe\">\n",
       "  <thead>\n",
       "    <tr style=\"text-align: right;\">\n",
       "      <th></th>\n",
       "    </tr>\n",
       "  </thead>\n",
       "  <tbody>\n",
       "    <tr>\n",
       "      <th>2020-09-23 15:00:00.000</th>\n",
       "    </tr>\n",
       "    <tr>\n",
       "      <th>2020-09-23 15:00:00.010</th>\n",
       "    </tr>\n",
       "    <tr>\n",
       "      <th>2020-09-23 15:00:00.020</th>\n",
       "    </tr>\n",
       "    <tr>\n",
       "      <th>2020-09-23 15:00:00.030</th>\n",
       "    </tr>\n",
       "    <tr>\n",
       "      <th>2020-09-23 15:00:00.040</th>\n",
       "    </tr>\n",
       "  </tbody>\n",
       "</table>\n",
       "</div>"
      ],
      "text/plain": [
       "Empty DataFrame\n",
       "Columns: []\n",
       "Index: [2020-09-23 15:00:00, 2020-09-23 15:00:00.010000, 2020-09-23 15:00:00.020000, 2020-09-23 15:00:00.030000, 2020-09-23 15:00:00.040000]"
      ]
     },
     "execution_count": 3,
     "metadata": {},
     "output_type": "execute_result"
    }
   ],
   "source": [
    "df = pd.DataFrame(index=t)\n",
    "df.head()"
   ]
  },
  {
   "cell_type": "code",
   "execution_count": 4,
   "metadata": {},
   "outputs": [
    {
     "data": {
      "text/plain": [
       "DatetimeIndex([       '2020-09-23 15:00:00', '2020-09-23 15:00:00.010000',\n",
       "               '2020-09-23 15:00:00.020000', '2020-09-23 15:00:00.030000',\n",
       "               '2020-09-23 15:00:00.040000', '2020-09-23 15:00:00.050000',\n",
       "               '2020-09-23 15:00:00.060000', '2020-09-23 15:00:00.070000',\n",
       "               '2020-09-23 15:00:00.080000', '2020-09-23 15:00:00.090000',\n",
       "               ...\n",
       "               '2020-09-23 15:01:59.910000', '2020-09-23 15:01:59.920000',\n",
       "               '2020-09-23 15:01:59.930000', '2020-09-23 15:01:59.940000',\n",
       "               '2020-09-23 15:01:59.950000', '2020-09-23 15:01:59.960000',\n",
       "               '2020-09-23 15:01:59.970000', '2020-09-23 15:01:59.980000',\n",
       "               '2020-09-23 15:01:59.990000',        '2020-09-23 15:02:00'],\n",
       "              dtype='datetime64[ns]', length=12001, freq=None)"
      ]
     },
     "execution_count": 4,
     "metadata": {},
     "output_type": "execute_result"
    }
   ],
   "source": [
    "df.index"
   ]
  },
  {
   "cell_type": "code",
   "execution_count": 5,
   "metadata": {},
   "outputs": [
    {
     "data": {
      "text/plain": [
       "TimedeltaIndex([       '00:00:00', '00:00:00.010000', '00:00:00.020000',\n",
       "                '00:00:00.030000', '00:00:00.040000', '00:00:00.050000',\n",
       "                '00:00:00.060000', '00:00:00.070000', '00:00:00.080000',\n",
       "                '00:00:00.090000'],\n",
       "               dtype='timedelta64[ns]', freq=None)"
      ]
     },
     "execution_count": 5,
     "metadata": {},
     "output_type": "execute_result"
    }
   ],
   "source": [
    "delta_t = df.index - df.index[0]\n",
    "delta_t[:10]"
   ]
  },
  {
   "cell_type": "code",
   "execution_count": 6,
   "metadata": {},
   "outputs": [
    {
     "data": {
      "text/html": [
       "<div>\n",
       "<style scoped>\n",
       "    .dataframe tbody tr th:only-of-type {\n",
       "        vertical-align: middle;\n",
       "    }\n",
       "\n",
       "    .dataframe tbody tr th {\n",
       "        vertical-align: top;\n",
       "    }\n",
       "\n",
       "    .dataframe thead th {\n",
       "        text-align: right;\n",
       "    }\n",
       "</style>\n",
       "<table border=\"1\" class=\"dataframe\">\n",
       "  <thead>\n",
       "    <tr style=\"text-align: right;\">\n",
       "      <th></th>\n",
       "      <th>seconds</th>\n",
       "    </tr>\n",
       "  </thead>\n",
       "  <tbody>\n",
       "    <tr>\n",
       "      <th>2020-09-23 15:00:00.000</th>\n",
       "      <td>0.00</td>\n",
       "    </tr>\n",
       "    <tr>\n",
       "      <th>2020-09-23 15:00:00.010</th>\n",
       "      <td>0.01</td>\n",
       "    </tr>\n",
       "    <tr>\n",
       "      <th>2020-09-23 15:00:00.020</th>\n",
       "      <td>0.02</td>\n",
       "    </tr>\n",
       "    <tr>\n",
       "      <th>2020-09-23 15:00:00.030</th>\n",
       "      <td>0.03</td>\n",
       "    </tr>\n",
       "    <tr>\n",
       "      <th>2020-09-23 15:00:00.040</th>\n",
       "      <td>0.04</td>\n",
       "    </tr>\n",
       "  </tbody>\n",
       "</table>\n",
       "</div>"
      ],
      "text/plain": [
       "                         seconds\n",
       "2020-09-23 15:00:00.000     0.00\n",
       "2020-09-23 15:00:00.010     0.01\n",
       "2020-09-23 15:00:00.020     0.02\n",
       "2020-09-23 15:00:00.030     0.03\n",
       "2020-09-23 15:00:00.040     0.04"
      ]
     },
     "execution_count": 6,
     "metadata": {},
     "output_type": "execute_result"
    }
   ],
   "source": [
    "df['seconds'] = delta_t.seconds + delta_t.microseconds/1e6\n",
    "df.head()"
   ]
  },
  {
   "cell_type": "code",
   "execution_count": 7,
   "metadata": {},
   "outputs": [
    {
     "data": {
      "text/html": [
       "<div>\n",
       "<style scoped>\n",
       "    .dataframe tbody tr th:only-of-type {\n",
       "        vertical-align: middle;\n",
       "    }\n",
       "\n",
       "    .dataframe tbody tr th {\n",
       "        vertical-align: top;\n",
       "    }\n",
       "\n",
       "    .dataframe thead th {\n",
       "        text-align: right;\n",
       "    }\n",
       "</style>\n",
       "<table border=\"1\" class=\"dataframe\">\n",
       "  <thead>\n",
       "    <tr style=\"text-align: right;\">\n",
       "      <th></th>\n",
       "      <th>seconds</th>\n",
       "    </tr>\n",
       "  </thead>\n",
       "  <tbody>\n",
       "    <tr>\n",
       "      <th>2020-09-23 15:01:59.960</th>\n",
       "      <td>119.96</td>\n",
       "    </tr>\n",
       "    <tr>\n",
       "      <th>2020-09-23 15:01:59.970</th>\n",
       "      <td>119.97</td>\n",
       "    </tr>\n",
       "    <tr>\n",
       "      <th>2020-09-23 15:01:59.980</th>\n",
       "      <td>119.98</td>\n",
       "    </tr>\n",
       "    <tr>\n",
       "      <th>2020-09-23 15:01:59.990</th>\n",
       "      <td>119.99</td>\n",
       "    </tr>\n",
       "    <tr>\n",
       "      <th>2020-09-23 15:02:00.000</th>\n",
       "      <td>120.00</td>\n",
       "    </tr>\n",
       "  </tbody>\n",
       "</table>\n",
       "</div>"
      ],
      "text/plain": [
       "                         seconds\n",
       "2020-09-23 15:01:59.960   119.96\n",
       "2020-09-23 15:01:59.970   119.97\n",
       "2020-09-23 15:01:59.980   119.98\n",
       "2020-09-23 15:01:59.990   119.99\n",
       "2020-09-23 15:02:00.000   120.00"
      ]
     },
     "execution_count": 7,
     "metadata": {},
     "output_type": "execute_result"
    }
   ],
   "source": [
    "df.tail()"
   ]
  },
  {
   "cell_type": "code",
   "execution_count": 8,
   "metadata": {},
   "outputs": [
    {
     "data": {
      "text/html": [
       "<div>\n",
       "<style scoped>\n",
       "    .dataframe tbody tr th:only-of-type {\n",
       "        vertical-align: middle;\n",
       "    }\n",
       "\n",
       "    .dataframe tbody tr th {\n",
       "        vertical-align: top;\n",
       "    }\n",
       "\n",
       "    .dataframe thead th {\n",
       "        text-align: right;\n",
       "    }\n",
       "</style>\n",
       "<table border=\"1\" class=\"dataframe\">\n",
       "  <thead>\n",
       "    <tr style=\"text-align: right;\">\n",
       "      <th></th>\n",
       "      <th>seconds</th>\n",
       "      <th>signal</th>\n",
       "    </tr>\n",
       "  </thead>\n",
       "  <tbody>\n",
       "    <tr>\n",
       "      <th>2020-09-23 15:00:00.000</th>\n",
       "      <td>0.00</td>\n",
       "      <td>0.000000</td>\n",
       "    </tr>\n",
       "    <tr>\n",
       "      <th>2020-09-23 15:00:00.010</th>\n",
       "      <td>0.01</td>\n",
       "      <td>0.006283</td>\n",
       "    </tr>\n",
       "    <tr>\n",
       "      <th>2020-09-23 15:00:00.020</th>\n",
       "      <td>0.02</td>\n",
       "      <td>0.012566</td>\n",
       "    </tr>\n",
       "    <tr>\n",
       "      <th>2020-09-23 15:00:00.030</th>\n",
       "      <td>0.03</td>\n",
       "      <td>0.018848</td>\n",
       "    </tr>\n",
       "    <tr>\n",
       "      <th>2020-09-23 15:00:00.040</th>\n",
       "      <td>0.04</td>\n",
       "      <td>0.025130</td>\n",
       "    </tr>\n",
       "  </tbody>\n",
       "</table>\n",
       "</div>"
      ],
      "text/plain": [
       "                         seconds    signal\n",
       "2020-09-23 15:00:00.000     0.00  0.000000\n",
       "2020-09-23 15:00:00.010     0.01  0.006283\n",
       "2020-09-23 15:00:00.020     0.02  0.012566\n",
       "2020-09-23 15:00:00.030     0.03  0.018848\n",
       "2020-09-23 15:00:00.040     0.04  0.025130"
      ]
     },
     "execution_count": 8,
     "metadata": {},
     "output_type": "execute_result"
    }
   ],
   "source": [
    "import numpy as np\n",
    "\n",
    "df['signal'] = np.sin(df.seconds/10 * 2 * np.pi)\n",
    "df.head()"
   ]
  },
  {
   "cell_type": "code",
   "execution_count": 9,
   "metadata": {},
   "outputs": [
    {
     "data": {
      "text/plain": [
       "<matplotlib.axes._subplots.AxesSubplot at 0x1f0cd6b0d88>"
      ]
     },
     "execution_count": 9,
     "metadata": {},
     "output_type": "execute_result"
    },
    {
     "data": {
      "image/png": "[encoded data removed]",
      "text/plain": [
       "<Figure size 432x288 with 1 Axes>"
      ]
     },
     "metadata": {
      "needs_background": "light"
     },
     "output_type": "display_data"
    }
   ],
   "source": [
    "df.signal.plot()"
   ]
  },
  {
   "cell_type": "code",
   "execution_count": 10,
   "metadata": {},
   "outputs": [
    {
     "data": {
      "text/html": [
       "<div>\n",
       "<style scoped>\n",
       "    .dataframe tbody tr th:only-of-type {\n",
       "        vertical-align: middle;\n",
       "    }\n",
       "\n",
       "    .dataframe tbody tr th {\n",
       "        vertical-align: top;\n",
       "    }\n",
       "\n",
       "    .dataframe thead th {\n",
       "        text-align: right;\n",
       "    }\n",
       "</style>\n",
       "<table border=\"1\" class=\"dataframe\">\n",
       "  <thead>\n",
       "    <tr style=\"text-align: right;\">\n",
       "      <th></th>\n",
       "      <th>index</th>\n",
       "      <th>seconds</th>\n",
       "      <th>signal</th>\n",
       "    </tr>\n",
       "  </thead>\n",
       "  <tbody>\n",
       "    <tr>\n",
       "      <th>0</th>\n",
       "      <td>2020-09-23 15:00:00.000</td>\n",
       "      <td>0.00</td>\n",
       "      <td>0.000000</td>\n",
       "    </tr>\n",
       "    <tr>\n",
       "      <th>1</th>\n",
       "      <td>2020-09-23 15:00:00.010</td>\n",
       "      <td>0.01</td>\n",
       "      <td>0.006283</td>\n",
       "    </tr>\n",
       "    <tr>\n",
       "      <th>2</th>\n",
       "      <td>2020-09-23 15:00:00.020</td>\n",
       "      <td>0.02</td>\n",
       "      <td>0.012566</td>\n",
       "    </tr>\n",
       "    <tr>\n",
       "      <th>3</th>\n",
       "      <td>2020-09-23 15:00:00.030</td>\n",
       "      <td>0.03</td>\n",
       "      <td>0.018848</td>\n",
       "    </tr>\n",
       "    <tr>\n",
       "      <th>4</th>\n",
       "      <td>2020-09-23 15:00:00.040</td>\n",
       "      <td>0.04</td>\n",
       "      <td>0.025130</td>\n",
       "    </tr>\n",
       "  </tbody>\n",
       "</table>\n",
       "</div>"
      ],
      "text/plain": [
       "                    index  seconds    signal\n",
       "0 2020-09-23 15:00:00.000     0.00  0.000000\n",
       "1 2020-09-23 15:00:00.010     0.01  0.006283\n",
       "2 2020-09-23 15:00:00.020     0.02  0.012566\n",
       "3 2020-09-23 15:00:00.030     0.03  0.018848\n",
       "4 2020-09-23 15:00:00.040     0.04  0.025130"
      ]
     },
     "execution_count": 10,
     "metadata": {},
     "output_type": "execute_result"
    }
   ],
   "source": [
    "df2 = df.reset_index()\n",
    "df2.head()"
   ]
  },
  {
   "cell_type": "code",
   "execution_count": 11,
   "metadata": {},
   "outputs": [
    {
     "data": {
      "text/plain": [
       "Float64Index([ 0.0,  0.0,  0.0,  0.0,  0.0,  0.0,  0.0,  0.0,  0.0,  0.0,\n",
       "              ...\n",
       "              24.0, 24.0, 24.0, 24.0, 24.0, 24.0, 24.0, 24.0, 24.0, 24.0],\n",
       "             dtype='float64', length=12001)"
      ]
     },
     "execution_count": 11,
     "metadata": {},
     "output_type": "execute_result"
    }
   ],
   "source": [
    "np.round(df2.index / 500)"
   ]
  },
  {
   "cell_type": "code",
   "execution_count": 12,
   "metadata": {},
   "outputs": [
    {
     "data": {
      "text/plain": [
       "array([  0,   0,   0, ..., 119, 119, 120])"
      ]
     },
     "execution_count": 12,
     "metadata": {},
     "output_type": "execute_result"
    }
   ],
   "source": [
    "window_idx = np.asarray(np.floor(df2.index / 100).values,\n",
    "                       np.int)\n",
    "window_idx"
   ]
  },
  {
   "cell_type": "code",
   "execution_count": 13,
   "metadata": {},
   "outputs": [
    {
     "data": {
      "text/html": [
       "<div>\n",
       "<style scoped>\n",
       "    .dataframe tbody tr th:only-of-type {\n",
       "        vertical-align: middle;\n",
       "    }\n",
       "\n",
       "    .dataframe tbody tr th {\n",
       "        vertical-align: top;\n",
       "    }\n",
       "\n",
       "    .dataframe thead th {\n",
       "        text-align: right;\n",
       "    }\n",
       "</style>\n",
       "<table border=\"1\" class=\"dataframe\">\n",
       "  <thead>\n",
       "    <tr style=\"text-align: right;\">\n",
       "      <th></th>\n",
       "      <th>seconds</th>\n",
       "      <th>signal</th>\n",
       "      <th>window_idx</th>\n",
       "    </tr>\n",
       "  </thead>\n",
       "  <tbody>\n",
       "    <tr>\n",
       "      <th>2020-09-23 15:00:00.000</th>\n",
       "      <td>0.00</td>\n",
       "      <td>0.000000</td>\n",
       "      <td>s000</td>\n",
       "    </tr>\n",
       "    <tr>\n",
       "      <th>2020-09-23 15:00:00.010</th>\n",
       "      <td>0.01</td>\n",
       "      <td>0.006283</td>\n",
       "      <td>s000</td>\n",
       "    </tr>\n",
       "    <tr>\n",
       "      <th>2020-09-23 15:00:00.020</th>\n",
       "      <td>0.02</td>\n",
       "      <td>0.012566</td>\n",
       "      <td>s000</td>\n",
       "    </tr>\n",
       "    <tr>\n",
       "      <th>2020-09-23 15:00:00.030</th>\n",
       "      <td>0.03</td>\n",
       "      <td>0.018848</td>\n",
       "      <td>s000</td>\n",
       "    </tr>\n",
       "    <tr>\n",
       "      <th>2020-09-23 15:00:00.040</th>\n",
       "      <td>0.04</td>\n",
       "      <td>0.025130</td>\n",
       "      <td>s000</td>\n",
       "    </tr>\n",
       "  </tbody>\n",
       "</table>\n",
       "</div>"
      ],
      "text/plain": [
       "                         seconds    signal window_idx\n",
       "2020-09-23 15:00:00.000     0.00  0.000000       s000\n",
       "2020-09-23 15:00:00.010     0.01  0.006283       s000\n",
       "2020-09-23 15:00:00.020     0.02  0.012566       s000\n",
       "2020-09-23 15:00:00.030     0.03  0.018848       s000\n",
       "2020-09-23 15:00:00.040     0.04  0.025130       s000"
      ]
     },
     "execution_count": 13,
     "metadata": {},
     "output_type": "execute_result"
    }
   ],
   "source": [
    "df['window_idx'] = ['s{:03}'.format(idx) for idx in window_idx]\n",
    "df.head()"
   ]
  },
  {
   "cell_type": "code",
   "execution_count": 14,
   "metadata": {},
   "outputs": [
    {
     "data": {
      "text/html": [
       "<div>\n",
       "<style scoped>\n",
       "    .dataframe tbody tr th:only-of-type {\n",
       "        vertical-align: middle;\n",
       "    }\n",
       "\n",
       "    .dataframe tbody tr th {\n",
       "        vertical-align: top;\n",
       "    }\n",
       "\n",
       "    .dataframe thead th {\n",
       "        text-align: right;\n",
       "    }\n",
       "</style>\n",
       "<table border=\"1\" class=\"dataframe\">\n",
       "  <thead>\n",
       "    <tr style=\"text-align: right;\">\n",
       "      <th></th>\n",
       "      <th>seconds</th>\n",
       "      <th>signal</th>\n",
       "    </tr>\n",
       "    <tr>\n",
       "      <th>window_idx</th>\n",
       "      <th></th>\n",
       "      <th></th>\n",
       "    </tr>\n",
       "  </thead>\n",
       "  <tbody>\n",
       "    <tr>\n",
       "      <th>s000</th>\n",
       "      <td>100</td>\n",
       "      <td>100</td>\n",
       "    </tr>\n",
       "    <tr>\n",
       "      <th>s001</th>\n",
       "      <td>100</td>\n",
       "      <td>100</td>\n",
       "    </tr>\n",
       "    <tr>\n",
       "      <th>s002</th>\n",
       "      <td>100</td>\n",
       "      <td>100</td>\n",
       "    </tr>\n",
       "    <tr>\n",
       "      <th>s003</th>\n",
       "      <td>100</td>\n",
       "      <td>100</td>\n",
       "    </tr>\n",
       "    <tr>\n",
       "      <th>s004</th>\n",
       "      <td>100</td>\n",
       "      <td>100</td>\n",
       "    </tr>\n",
       "    <tr>\n",
       "      <th>...</th>\n",
       "      <td>...</td>\n",
       "      <td>...</td>\n",
       "    </tr>\n",
       "    <tr>\n",
       "      <th>s116</th>\n",
       "      <td>100</td>\n",
       "      <td>100</td>\n",
       "    </tr>\n",
       "    <tr>\n",
       "      <th>s117</th>\n",
       "      <td>100</td>\n",
       "      <td>100</td>\n",
       "    </tr>\n",
       "    <tr>\n",
       "      <th>s118</th>\n",
       "      <td>100</td>\n",
       "      <td>100</td>\n",
       "    </tr>\n",
       "    <tr>\n",
       "      <th>s119</th>\n",
       "      <td>100</td>\n",
       "      <td>100</td>\n",
       "    </tr>\n",
       "    <tr>\n",
       "      <th>s120</th>\n",
       "      <td>1</td>\n",
       "      <td>1</td>\n",
       "    </tr>\n",
       "  </tbody>\n",
       "</table>\n",
       "<p>121 rows × 2 columns</p>\n",
       "</div>"
      ],
      "text/plain": [
       "            seconds  signal\n",
       "window_idx                 \n",
       "s000            100     100\n",
       "s001            100     100\n",
       "s002            100     100\n",
       "s003            100     100\n",
       "s004            100     100\n",
       "...             ...     ...\n",
       "s116            100     100\n",
       "s117            100     100\n",
       "s118            100     100\n",
       "s119            100     100\n",
       "s120              1       1\n",
       "\n",
       "[121 rows x 2 columns]"
      ]
     },
     "execution_count": 14,
     "metadata": {},
     "output_type": "execute_result"
    }
   ],
   "source": [
    "df.groupby('window_idx').count()"
   ]
  },
  {
   "cell_type": "code",
   "execution_count": 15,
   "metadata": {},
   "outputs": [],
   "source": [
    "import matplotlib.pyplot as plt\n",
    "%matplotlib inline"
   ]
  },
  {
   "cell_type": "code",
   "execution_count": 16,
   "metadata": {},
   "outputs": [
    {
     "data": {
      "text/plain": [
       "<matplotlib.legend.Legend at 0x1f0cef7b7c8>"
      ]
     },
     "execution_count": 16,
     "metadata": {},
     "output_type": "execute_result"
    },
    {
     "data": {
      "image/png": "[encoded data removed]",
      "text/plain": [
       "<Figure size 432x288 with 1 Axes>"
      ]
     },
     "metadata": {
      "needs_background": "light"
     },
     "output_type": "display_data"
    }
   ],
   "source": [
    "for idx in np.unique(df.window_idx)[:10]:\n",
    "    plt.plot(df.signal[df.window_idx == idx], label=idx)\n",
    "plt.xticks(rotation=45)\n",
    "plt.legend()"
   ]
  },
  {
   "cell_type": "code",
   "execution_count": 17,
   "metadata": {},
   "outputs": [
    {
     "data": {
      "text/html": [
       "<div>\n",
       "<style scoped>\n",
       "    .dataframe tbody tr th:only-of-type {\n",
       "        vertical-align: middle;\n",
       "    }\n",
       "\n",
       "    .dataframe tbody tr th {\n",
       "        vertical-align: top;\n",
       "    }\n",
       "\n",
       "    .dataframe thead th {\n",
       "        text-align: right;\n",
       "    }\n",
       "</style>\n",
       "<table border=\"1\" class=\"dataframe\">\n",
       "  <thead>\n",
       "    <tr style=\"text-align: right;\">\n",
       "      <th></th>\n",
       "      <th>seconds</th>\n",
       "      <th>signal</th>\n",
       "      <th>window_idx</th>\n",
       "    </tr>\n",
       "  </thead>\n",
       "  <tbody>\n",
       "    <tr>\n",
       "      <th>2020-09-23 15:00:00.000</th>\n",
       "      <td>0.00</td>\n",
       "      <td>0.000000</td>\n",
       "      <td>s000</td>\n",
       "    </tr>\n",
       "    <tr>\n",
       "      <th>2020-09-23 15:00:00.010</th>\n",
       "      <td>0.01</td>\n",
       "      <td>0.006283</td>\n",
       "      <td>s000</td>\n",
       "    </tr>\n",
       "    <tr>\n",
       "      <th>2020-09-23 15:00:00.020</th>\n",
       "      <td>0.02</td>\n",
       "      <td>0.012566</td>\n",
       "      <td>s000</td>\n",
       "    </tr>\n",
       "    <tr>\n",
       "      <th>2020-09-23 15:00:00.030</th>\n",
       "      <td>0.03</td>\n",
       "      <td>0.018848</td>\n",
       "      <td>s000</td>\n",
       "    </tr>\n",
       "    <tr>\n",
       "      <th>2020-09-23 15:00:00.040</th>\n",
       "      <td>0.04</td>\n",
       "      <td>0.025130</td>\n",
       "      <td>s000</td>\n",
       "    </tr>\n",
       "  </tbody>\n",
       "</table>\n",
       "</div>"
      ],
      "text/plain": [
       "                         seconds    signal window_idx\n",
       "2020-09-23 15:00:00.000     0.00  0.000000       s000\n",
       "2020-09-23 15:00:00.010     0.01  0.006283       s000\n",
       "2020-09-23 15:00:00.020     0.02  0.012566       s000\n",
       "2020-09-23 15:00:00.030     0.03  0.018848       s000\n",
       "2020-09-23 15:00:00.040     0.04  0.025130       s000"
      ]
     },
     "execution_count": 17,
     "metadata": {},
     "output_type": "execute_result"
    }
   ],
   "source": [
    "df.head()"
   ]
  },
  {
   "cell_type": "code",
   "execution_count": 18,
   "metadata": {},
   "outputs": [
    {
     "name": "stderr",
     "output_type": "stream",
     "text": [
      "Feature Extraction: 100%|██████████████████████████████████████████████████████████████| 18/18 [00:06<00:00,  2.75it/s]\n"
     ]
    }
   ],
   "source": [
    "from tsfresh.feature_extraction import extract_features\n",
    "\n",
    "X = extract_features(df, column_id='window_idx', column_sort='seconds')"
   ]
  },
  {
   "cell_type": "code",
   "execution_count": 19,
   "metadata": {},
   "outputs": [
    {
     "data": {
      "text/html": [
       "<div>\n",
       "<style scoped>\n",
       "    .dataframe tbody tr th:only-of-type {\n",
       "        vertical-align: middle;\n",
       "    }\n",
       "\n",
       "    .dataframe tbody tr th {\n",
       "        vertical-align: top;\n",
       "    }\n",
       "\n",
       "    .dataframe thead th {\n",
       "        text-align: right;\n",
       "    }\n",
       "</style>\n",
       "<table border=\"1\" class=\"dataframe\">\n",
       "  <thead>\n",
       "    <tr style=\"text-align: right;\">\n",
       "      <th>variable</th>\n",
       "      <th>signal__abs_energy</th>\n",
       "      <th>signal__absolute_sum_of_changes</th>\n",
       "      <th>signal__agg_autocorrelation__f_agg_\"mean\"__maxlag_40</th>\n",
       "      <th>signal__agg_autocorrelation__f_agg_\"median\"__maxlag_40</th>\n",
       "      <th>signal__agg_autocorrelation__f_agg_\"var\"__maxlag_40</th>\n",
       "      <th>signal__agg_linear_trend__f_agg_\"max\"__chunk_len_10__attr_\"intercept\"</th>\n",
       "      <th>signal__agg_linear_trend__f_agg_\"max\"__chunk_len_10__attr_\"rvalue\"</th>\n",
       "      <th>signal__agg_linear_trend__f_agg_\"max\"__chunk_len_10__attr_\"slope\"</th>\n",
       "      <th>signal__agg_linear_trend__f_agg_\"max\"__chunk_len_10__attr_\"stderr\"</th>\n",
       "      <th>signal__agg_linear_trend__f_agg_\"max\"__chunk_len_50__attr_\"intercept\"</th>\n",
       "      <th>...</th>\n",
       "      <th>signal__symmetry_looking__r_0.9</th>\n",
       "      <th>signal__symmetry_looking__r_0.9500000000000001</th>\n",
       "      <th>signal__time_reversal_asymmetry_statistic__lag_1</th>\n",
       "      <th>signal__time_reversal_asymmetry_statistic__lag_2</th>\n",
       "      <th>signal__time_reversal_asymmetry_statistic__lag_3</th>\n",
       "      <th>signal__value_count__value_-1</th>\n",
       "      <th>signal__value_count__value_0</th>\n",
       "      <th>signal__value_count__value_1</th>\n",
       "      <th>signal__variance</th>\n",
       "      <th>signal__variance_larger_than_standard_deviation</th>\n",
       "    </tr>\n",
       "    <tr>\n",
       "      <th>id</th>\n",
       "      <th></th>\n",
       "      <th></th>\n",
       "      <th></th>\n",
       "      <th></th>\n",
       "      <th></th>\n",
       "      <th></th>\n",
       "      <th></th>\n",
       "      <th></th>\n",
       "      <th></th>\n",
       "      <th></th>\n",
       "      <th></th>\n",
       "      <th></th>\n",
       "      <th></th>\n",
       "      <th></th>\n",
       "      <th></th>\n",
       "      <th></th>\n",
       "      <th></th>\n",
       "      <th></th>\n",
       "      <th></th>\n",
       "      <th></th>\n",
       "      <th></th>\n",
       "    </tr>\n",
       "  </thead>\n",
       "  <tbody>\n",
       "    <tr>\n",
       "      <th>s000</th>\n",
       "      <td>11.986416</td>\n",
       "      <td>0.582690</td>\n",
       "      <td>0.480087</td>\n",
       "      <td>0.507826</td>\n",
       "      <td>0.107379</td>\n",
       "      <td>0.063363</td>\n",
       "      <td>0.999596</td>\n",
       "      <td>0.058681</td>\n",
       "      <td>0.000590</td>\n",
       "      <td>0.303035</td>\n",
       "      <td>...</td>\n",
       "      <td>1.0</td>\n",
       "      <td>1.0</td>\n",
       "      <td>0.002656</td>\n",
       "      <td>0.005280</td>\n",
       "      <td>0.007872</td>\n",
       "      <td>0.0</td>\n",
       "      <td>1.0</td>\n",
       "      <td>0.0</td>\n",
       "      <td>0.029252</td>\n",
       "      <td>0.0</td>\n",
       "    </tr>\n",
       "    <tr>\n",
       "      <th>s001</th>\n",
       "      <td>64.174406</td>\n",
       "      <td>0.361311</td>\n",
       "      <td>0.475606</td>\n",
       "      <td>0.502824</td>\n",
       "      <td>0.108749</td>\n",
       "      <td>0.651335</td>\n",
       "      <td>0.993363</td>\n",
       "      <td>0.035300</td>\n",
       "      <td>0.001445</td>\n",
       "      <td>0.805308</td>\n",
       "      <td>...</td>\n",
       "      <td>1.0</td>\n",
       "      <td>1.0</td>\n",
       "      <td>0.008796</td>\n",
       "      <td>0.017658</td>\n",
       "      <td>0.026584</td>\n",
       "      <td>0.0</td>\n",
       "      <td>0.0</td>\n",
       "      <td>0.0</td>\n",
       "      <td>0.011378</td>\n",
       "      <td>0.0</td>\n",
       "    </tr>\n",
       "    <tr>\n",
       "      <th>s002</th>\n",
       "      <td>96.773849</td>\n",
       "      <td>0.095964</td>\n",
       "      <td>0.092418</td>\n",
       "      <td>0.075024</td>\n",
       "      <td>0.261142</td>\n",
       "      <td>0.987039</td>\n",
       "      <td>0.040970</td>\n",
       "      <td>0.000169</td>\n",
       "      <td>0.001458</td>\n",
       "      <td>0.999980</td>\n",
       "      <td>...</td>\n",
       "      <td>1.0</td>\n",
       "      <td>1.0</td>\n",
       "      <td>0.000071</td>\n",
       "      <td>0.000142</td>\n",
       "      <td>0.000214</td>\n",
       "      <td>0.0</td>\n",
       "      <td>0.0</td>\n",
       "      <td>1.0</td>\n",
       "      <td>0.000214</td>\n",
       "      <td>0.0</td>\n",
       "    </tr>\n",
       "    <tr>\n",
       "      <th>s003</th>\n",
       "      <td>64.733423</td>\n",
       "      <td>0.358200</td>\n",
       "      <td>0.475481</td>\n",
       "      <td>0.502684</td>\n",
       "      <td>0.108787</td>\n",
       "      <td>0.971075</td>\n",
       "      <td>-0.993184</td>\n",
       "      <td>-0.034977</td>\n",
       "      <td>0.001451</td>\n",
       "      <td>0.951057</td>\n",
       "      <td>...</td>\n",
       "      <td>1.0</td>\n",
       "      <td>1.0</td>\n",
       "      <td>-0.008796</td>\n",
       "      <td>-0.017659</td>\n",
       "      <td>-0.026585</td>\n",
       "      <td>0.0</td>\n",
       "      <td>0.0</td>\n",
       "      <td>0.0</td>\n",
       "      <td>0.011187</td>\n",
       "      <td>0.0</td>\n",
       "    </tr>\n",
       "    <tr>\n",
       "      <th>s004</th>\n",
       "      <td>12.331907</td>\n",
       "      <td>0.581502</td>\n",
       "      <td>0.480075</td>\n",
       "      <td>0.507813</td>\n",
       "      <td>0.107382</td>\n",
       "      <td>0.596720</td>\n",
       "      <td>-0.999580</td>\n",
       "      <td>-0.058549</td>\n",
       "      <td>0.000600</td>\n",
       "      <td>0.587785</td>\n",
       "      <td>...</td>\n",
       "      <td>1.0</td>\n",
       "      <td>1.0</td>\n",
       "      <td>-0.002727</td>\n",
       "      <td>-0.005423</td>\n",
       "      <td>-0.008088</td>\n",
       "      <td>0.0</td>\n",
       "      <td>0.0</td>\n",
       "      <td>0.0</td>\n",
       "      <td>0.029133</td>\n",
       "      <td>0.0</td>\n",
       "    </tr>\n",
       "  </tbody>\n",
       "</table>\n",
       "<p>5 rows × 759 columns</p>\n",
       "</div>"
      ],
      "text/plain": [
       "variable  signal__abs_energy  signal__absolute_sum_of_changes  \\\n",
       "id                                                              \n",
       "s000               11.986416                         0.582690   \n",
       "s001               64.174406                         0.361311   \n",
       "s002               96.773849                         0.095964   \n",
       "s003               64.733423                         0.358200   \n",
       "s004               12.331907                         0.581502   \n",
       "\n",
       "variable  signal__agg_autocorrelation__f_agg_\"mean\"__maxlag_40  \\\n",
       "id                                                               \n",
       "s000                                               0.480087      \n",
       "s001                                               0.475606      \n",
       "s002                                               0.092418      \n",
       "s003                                               0.475481      \n",
       "s004                                               0.480075      \n",
       "\n",
       "variable  signal__agg_autocorrelation__f_agg_\"median\"__maxlag_40  \\\n",
       "id                                                                 \n",
       "s000                                               0.507826        \n",
       "s001                                               0.502824        \n",
       "s002                                               0.075024        \n",
       "s003                                               0.502684        \n",
       "s004                                               0.507813        \n",
       "\n",
       "variable  signal__agg_autocorrelation__f_agg_\"var\"__maxlag_40  \\\n",
       "id                                                              \n",
       "s000                                               0.107379     \n",
       "s001                                               0.108749     \n",
       "s002                                               0.261142     \n",
       "s003                                               0.108787     \n",
       "s004                                               0.107382     \n",
       "\n",
       "variable  signal__agg_linear_trend__f_agg_\"max\"__chunk_len_10__attr_\"intercept\"  \\\n",
       "id                                                                                \n",
       "s000                                               0.063363                       \n",
       "s001                                               0.651335                       \n",
       "s002                                               0.987039                       \n",
       "s003                                               0.971075                       \n",
       "s004                                               0.596720                       \n",
       "\n",
       "variable  signal__agg_linear_trend__f_agg_\"max\"__chunk_len_10__attr_\"rvalue\"  \\\n",
       "id                                                                             \n",
       "s000                                               0.999596                    \n",
       "s001                                               0.993363                    \n",
       "s002                                               0.040970                    \n",
       "s003                                              -0.993184                    \n",
       "s004                                              -0.999580                    \n",
       "\n",
       "variable  signal__agg_linear_trend__f_agg_\"max\"__chunk_len_10__attr_\"slope\"  \\\n",
       "id                                                                            \n",
       "s000                                               0.058681                   \n",
       "s001                                               0.035300                   \n",
       "s002                                               0.000169                   \n",
       "s003                                              -0.034977                   \n",
       "s004                                              -0.058549                   \n",
       "\n",
       "variable  signal__agg_linear_trend__f_agg_\"max\"__chunk_len_10__attr_\"stderr\"  \\\n",
       "id                                                                             \n",
       "s000                                               0.000590                    \n",
       "s001                                               0.001445                    \n",
       "s002                                               0.001458                    \n",
       "s003                                               0.001451                    \n",
       "s004                                               0.000600                    \n",
       "\n",
       "variable  signal__agg_linear_trend__f_agg_\"max\"__chunk_len_50__attr_\"intercept\"  \\\n",
       "id                                                                                \n",
       "s000                                               0.303035                       \n",
       "s001                                               0.805308                       \n",
       "s002                                               0.999980                       \n",
       "s003                                               0.951057                       \n",
       "s004                                               0.587785                       \n",
       "\n",
       "variable  ...  signal__symmetry_looking__r_0.9  \\\n",
       "id        ...                                    \n",
       "s000      ...                              1.0   \n",
       "s001      ...                              1.0   \n",
       "s002      ...                              1.0   \n",
       "s003      ...                              1.0   \n",
       "s004      ...                              1.0   \n",
       "\n",
       "variable  signal__symmetry_looking__r_0.9500000000000001  \\\n",
       "id                                                         \n",
       "s000                                                 1.0   \n",
       "s001                                                 1.0   \n",
       "s002                                                 1.0   \n",
       "s003                                                 1.0   \n",
       "s004                                                 1.0   \n",
       "\n",
       "variable  signal__time_reversal_asymmetry_statistic__lag_1  \\\n",
       "id                                                           \n",
       "s000                                              0.002656   \n",
       "s001                                              0.008796   \n",
       "s002                                              0.000071   \n",
       "s003                                             -0.008796   \n",
       "s004                                             -0.002727   \n",
       "\n",
       "variable  signal__time_reversal_asymmetry_statistic__lag_2  \\\n",
       "id                                                           \n",
       "s000                                              0.005280   \n",
       "s001                                              0.017658   \n",
       "s002                                              0.000142   \n",
       "s003                                             -0.017659   \n",
       "s004                                             -0.005423   \n",
       "\n",
       "variable  signal__time_reversal_asymmetry_statistic__lag_3  \\\n",
       "id                                                           \n",
       "s000                                              0.007872   \n",
       "s001                                              0.026584   \n",
       "s002                                              0.000214   \n",
       "s003                                             -0.026585   \n",
       "s004                                             -0.008088   \n",
       "\n",
       "variable  signal__value_count__value_-1  signal__value_count__value_0  \\\n",
       "id                                                                      \n",
       "s000                                0.0                           1.0   \n",
       "s001                                0.0                           0.0   \n",
       "s002                                0.0                           0.0   \n",
       "s003                                0.0                           0.0   \n",
       "s004                                0.0                           0.0   \n",
       "\n",
       "variable  signal__value_count__value_1  signal__variance  \\\n",
       "id                                                         \n",
       "s000                               0.0          0.029252   \n",
       "s001                               0.0          0.011378   \n",
       "s002                               1.0          0.000214   \n",
       "s003                               0.0          0.011187   \n",
       "s004                               0.0          0.029133   \n",
       "\n",
       "variable  signal__variance_larger_than_standard_deviation  \n",
       "id                                                         \n",
       "s000                                                  0.0  \n",
       "s001                                                  0.0  \n",
       "s002                                                  0.0  \n",
       "s003                                                  0.0  \n",
       "s004                                                  0.0  \n",
       "\n",
       "[5 rows x 759 columns]"
      ]
     },
     "execution_count": 19,
     "metadata": {},
     "output_type": "execute_result"
    }
   ],
   "source": [
    "X.head()"
   ]
  },
  {
   "cell_type": "code",
   "execution_count": 20,
   "metadata": {},
   "outputs": [],
   "source": [
    "t = df.groupby('window_idx').seconds.max()"
   ]
  },
  {
   "cell_type": "code",
   "execution_count": 21,
   "metadata": {},
   "outputs": [
    {
     "data": {
      "image/png": "[encoded data removed]",
      "text/plain": [
       "<Figure size 432x288 with 1 Axes>"
      ]
     },
     "metadata": {
      "needs_background": "light"
     },
     "output_type": "display_data"
    }
   ],
   "source": [
    "plt.plot(t, X['signal__abs_energy'], 'o')\n",
    "_ = plt.xticks(rotation=45)"
   ]
  },
  {
   "cell_type": "markdown",
   "metadata": {},
   "source": [
    "## Random Forest Classifier"
   ]
  },
  {
   "cell_type": "markdown",
   "metadata": {},
   "source": [
    "## Create time-series classification problem"
   ]
  },
  {
   "cell_type": "code",
   "execution_count": 22,
   "metadata": {},
   "outputs": [],
   "source": [
    "df['diff'] = df['signal'].diff()"
   ]
  },
  {
   "cell_type": "code",
   "execution_count": 23,
   "metadata": {},
   "outputs": [],
   "source": [
    "df2 = df.copy()"
   ]
  },
  {
   "cell_type": "code",
   "execution_count": 24,
   "metadata": {},
   "outputs": [
    {
     "data": {
      "text/plain": [
       "<matplotlib.axes._subplots.AxesSubplot at 0x1f0d059ce08>"
      ]
     },
     "execution_count": 24,
     "metadata": {},
     "output_type": "execute_result"
    },
    {
     "data": {
      "image/png": "[encoded data removed]",
      "text/plain": [
       "<Figure size 432x288 with 1 Axes>"
      ]
     },
     "metadata": {
      "needs_background": "light"
     },
     "output_type": "display_data"
    }
   ],
   "source": [
    "df2['signal'] = df['signal'] + 0.5*np.random.randn(df.shape[0])\n",
    "df2.signal.plot()\n",
    "df.signal.plot()"
   ]
  },
  {
   "cell_type": "code",
   "execution_count": 25,
   "metadata": {},
   "outputs": [
    {
     "data": {
      "text/plain": [
       "<matplotlib.legend.Legend at 0x1f0d179b448>"
      ]
     },
     "execution_count": 25,
     "metadata": {},
     "output_type": "execute_result"
    },
    {
     "data": {
      "image/png": "[encoded data removed]",
      "text/plain": [
       "<Figure size 432x288 with 1 Axes>"
      ]
     },
     "metadata": {
      "needs_background": "light"
     },
     "output_type": "display_data"
    }
   ],
   "source": [
    "for idx in np.unique(df.window_idx)[:10]:\n",
    "    plt.plot(df2.signal[df.window_idx == idx], label=idx)\n",
    "plt.xticks(rotation=45)\n",
    "plt.legend()"
   ]
  },
  {
   "cell_type": "code",
   "execution_count": 26,
   "metadata": {},
   "outputs": [
    {
     "data": {
      "text/html": [
       "<div>\n",
       "<style scoped>\n",
       "    .dataframe tbody tr th:only-of-type {\n",
       "        vertical-align: middle;\n",
       "    }\n",
       "\n",
       "    .dataframe tbody tr th {\n",
       "        vertical-align: top;\n",
       "    }\n",
       "\n",
       "    .dataframe thead th {\n",
       "        text-align: right;\n",
       "    }\n",
       "</style>\n",
       "<table border=\"1\" class=\"dataframe\">\n",
       "  <thead>\n",
       "    <tr style=\"text-align: right;\">\n",
       "      <th></th>\n",
       "      <th>seconds</th>\n",
       "      <th>signal</th>\n",
       "      <th>window_idx</th>\n",
       "      <th>diff</th>\n",
       "    </tr>\n",
       "    <tr>\n",
       "      <th>_temporary_index_column</th>\n",
       "      <th></th>\n",
       "      <th></th>\n",
       "      <th></th>\n",
       "      <th></th>\n",
       "    </tr>\n",
       "  </thead>\n",
       "  <tbody>\n",
       "    <tr>\n",
       "      <th>2020-09-23 15:00:00.000</th>\n",
       "      <td>0.00</td>\n",
       "      <td>0.419331</td>\n",
       "      <td>s000</td>\n",
       "      <td>NaN</td>\n",
       "    </tr>\n",
       "    <tr>\n",
       "      <th>2020-09-23 15:00:00.010</th>\n",
       "      <td>0.01</td>\n",
       "      <td>0.006357</td>\n",
       "      <td>s000</td>\n",
       "      <td>0.006283</td>\n",
       "    </tr>\n",
       "    <tr>\n",
       "      <th>2020-09-23 15:00:00.020</th>\n",
       "      <td>0.02</td>\n",
       "      <td>-0.225259</td>\n",
       "      <td>s000</td>\n",
       "      <td>0.006283</td>\n",
       "    </tr>\n",
       "    <tr>\n",
       "      <th>2020-09-23 15:00:00.030</th>\n",
       "      <td>0.03</td>\n",
       "      <td>0.594541</td>\n",
       "      <td>s000</td>\n",
       "      <td>0.006282</td>\n",
       "    </tr>\n",
       "    <tr>\n",
       "      <th>2020-09-23 15:00:00.040</th>\n",
       "      <td>0.04</td>\n",
       "      <td>-0.030540</td>\n",
       "      <td>s000</td>\n",
       "      <td>0.006282</td>\n",
       "    </tr>\n",
       "  </tbody>\n",
       "</table>\n",
       "</div>"
      ],
      "text/plain": [
       "                         seconds    signal window_idx      diff\n",
       "_temporary_index_column                                        \n",
       "2020-09-23 15:00:00.000     0.00  0.419331       s000       NaN\n",
       "2020-09-23 15:00:00.010     0.01  0.006357       s000  0.006283\n",
       "2020-09-23 15:00:00.020     0.02 -0.225259       s000  0.006283\n",
       "2020-09-23 15:00:00.030     0.03  0.594541       s000  0.006282\n",
       "2020-09-23 15:00:00.040     0.04 -0.030540       s000  0.006282"
      ]
     },
     "execution_count": 26,
     "metadata": {},
     "output_type": "execute_result"
    }
   ],
   "source": [
    "df2.head()"
   ]
  },
  {
   "cell_type": "code",
   "execution_count": 27,
   "metadata": {},
   "outputs": [
    {
     "name": "stderr",
     "output_type": "stream",
     "text": [
      "Feature Extraction: 100%|██████████████████████████████████████████████████████████████| 18/18 [00:06<00:00,  2.66it/s]\n"
     ]
    }
   ],
   "source": [
    "X = extract_features(df2[['signal', 'window_idx', 'seconds']], column_id='window_idx', column_sort='seconds')"
   ]
  },
  {
   "cell_type": "code",
   "execution_count": 28,
   "metadata": {},
   "outputs": [
    {
     "data": {
      "text/plain": [
       "window_idx\n",
       "s000     True\n",
       "s001     True\n",
       "s002     True\n",
       "s003    False\n",
       "s004    False\n",
       "        ...  \n",
       "s116    False\n",
       "s117    False\n",
       "s118     True\n",
       "s119     True\n",
       "s120     True\n",
       "Name: diff, Length: 121, dtype: bool"
      ]
     },
     "execution_count": 28,
     "metadata": {},
     "output_type": "execute_result"
    }
   ],
   "source": [
    "y = df.groupby('window_idx')['diff'].mean() > 0\n",
    "y"
   ]
  },
  {
   "cell_type": "code",
   "execution_count": 29,
   "metadata": {},
   "outputs": [],
   "source": [
    "from tsfresh.transformers import FeatureSelector"
   ]
  },
  {
   "cell_type": "code",
   "execution_count": 30,
   "metadata": {},
   "outputs": [
    {
     "data": {
      "text/plain": [
       "FeatureSelector(chunksize=None, fdr_level=0.05, hypotheses_independent=False,\n",
       "                ml_task='auto', n_jobs=4,\n",
       "                test_for_binary_target_binary_feature='fisher',\n",
       "                test_for_binary_target_real_feature='mann',\n",
       "                test_for_real_target_binary_feature='mann',\n",
       "                test_for_real_target_real_feature='kendall')"
      ]
     },
     "execution_count": 30,
     "metadata": {},
     "output_type": "execute_result"
    }
   ],
   "source": [
    "select = FeatureSelector()\n",
    "select.fit(X.dropna(axis=1), y)"
   ]
  },
  {
   "cell_type": "code",
   "execution_count": 31,
   "metadata": {},
   "outputs": [
    {
     "data": {
      "text/plain": [
       "['signal__linear_trend__attr_\"rvalue\"',\n",
       " 'signal__linear_trend_timewise__attr_\"rvalue\"',\n",
       " 'signal__first_location_of_minimum',\n",
       " 'signal__last_location_of_minimum',\n",
       " 'signal__last_location_of_maximum',\n",
       " 'signal__change_quantiles__f_agg_\"mean\"__isabs_False__qh_1.0__ql_0.0',\n",
       " 'signal__first_location_of_maximum',\n",
       " 'signal__time_reversal_asymmetry_statistic__lag_3',\n",
       " 'signal__cwt_coefficients__widths_(2, 5, 10, 20)__coeff_0__w_10',\n",
       " 'signal__cwt_coefficients__widths_(2, 5, 10, 20)__coeff_0__w_20',\n",
       " 'signal__time_reversal_asymmetry_statistic__lag_2',\n",
       " 'signal__quantile__q_0.1',\n",
       " 'signal__quantile__q_0.2',\n",
       " 'signal__median',\n",
       " 'signal__quantile__q_0.4']"
      ]
     },
     "execution_count": 31,
     "metadata": {},
     "output_type": "execute_result"
    }
   ],
   "source": [
    "select.relevant_features"
   ]
  },
  {
   "cell_type": "code",
   "execution_count": 32,
   "metadata": {},
   "outputs": [
    {
     "data": {
      "text/plain": [
       "RandomForestClassifier(bootstrap=True, ccp_alpha=0.0, class_weight=None,\n",
       "                       criterion='gini', max_depth=None, max_features=5,\n",
       "                       max_leaf_nodes=None, max_samples=None,\n",
       "                       min_impurity_decrease=0.0, min_impurity_split=None,\n",
       "                       min_samples_leaf=1, min_samples_split=2,\n",
       "                       min_weight_fraction_leaf=0.0, n_estimators=100,\n",
       "                       n_jobs=None, oob_score=False, random_state=None,\n",
       "                       verbose=0, warm_start=False)"
      ]
     },
     "execution_count": 32,
     "metadata": {},
     "output_type": "execute_result"
    }
   ],
   "source": [
    "from sklearn.ensemble import RandomForestClassifier\n",
    "\n",
    "clf = RandomForestClassifier(max_features=5)\n",
    "clf.fit(X[select.relevant_features], y)"
   ]
  },
  {
   "cell_type": "code",
   "execution_count": 33,
   "metadata": {},
   "outputs": [],
   "source": [
    "from sklearn.pipeline import make_pipeline\n",
    "\n",
    "model = make_pipeline(FeatureSelector(), RandomForestClassifier())\n"
   ]
  },
  {
   "cell_type": "code",
   "execution_count": 34,
   "metadata": {},
   "outputs": [],
   "source": [
    "from sklearn.model_selection import RepeatedKFold\n",
    "\n",
    "kf = RepeatedKFold(n_splits=10, n_repeats=10)\n",
    "\n",
    "Xd = X.dropna(axis=1)\n",
    "predictions = list()\n",
    "truth = list()\n",
    "for train, test in kf.split(Xd):\n",
    "    model.fit(Xd.iloc[train], y.iloc[train])\n",
    "    predictions.append(model.predict_proba(Xd.iloc[test]))\n",
    "    truth.append(y.iloc[test])"
   ]
  },
  {
   "cell_type": "code",
   "execution_count": 47,
   "metadata": {},
   "outputs": [
    {
     "data": {
      "text/plain": [
       "121"
      ]
     },
     "execution_count": 47,
     "metadata": {},
     "output_type": "execute_result"
    }
   ],
   "source": []
  },
  {
   "cell_type": "code",
   "execution_count": 35,
   "metadata": {},
   "outputs": [
    {
     "data": {
      "text/plain": [
       "((1210, 2), (1210,))"
      ]
     },
     "execution_count": 35,
     "metadata": {},
     "output_type": "execute_result"
    }
   ],
   "source": [
    "p = np.concatenate(predictions)\n",
    "t = np.concatenate(truth)\n",
    "p.shape, t.shape"
   ]
  },
  {
   "cell_type": "code",
   "execution_count": 36,
   "metadata": {},
   "outputs": [],
   "source": [
    "from sklearn.metrics import roc_curve\n",
    "\n",
    "fpr, tpr, thresholds = roc_curve(t, p[:,1])\n",
    "         "
   ]
  },
  {
   "cell_type": "code",
   "execution_count": 37,
   "metadata": {},
   "outputs": [
    {
     "data": {
      "text/plain": [
       "[<matplotlib.lines.Line2D at 0x1f0d2533a48>]"
      ]
     },
     "execution_count": 37,
     "metadata": {},
     "output_type": "execute_result"
    },
    {
     "data": {
      "image/png": "[encoded data removed]",
      "text/plain": [
       "<Figure size 432x288 with 1 Axes>"
      ]
     },
     "metadata": {
      "needs_background": "light"
     },
     "output_type": "display_data"
    }
   ],
   "source": [
    "plt.plot(fpr, tpr)"
   ]
  },
  {
   "cell_type": "code",
   "execution_count": null,
   "metadata": {},
   "outputs": [],
   "source": []
  }
 ],
 "metadata": {
  "kernelspec": {
   "display_name": "term120x_env",
   "language": "python",
   "name": "term120x_env"
  },
  "language_info": {
   "codemirror_mode": {
    "name": "ipython",
    "version": 3
   },
   "file_extension": ".py",
   "mimetype": "text/x-python",
   "name": "python",
   "nbconvert_exporter": "python",
   "pygments_lexer": "ipython3",
   "version": "3.7.7"
  }
 },
 "nbformat": 4,
 "nbformat_minor": 4
}
